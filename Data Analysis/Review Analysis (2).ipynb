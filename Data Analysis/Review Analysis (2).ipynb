{
 "cells": [
  {
   "cell_type": "code",
   "execution_count": 1,
   "id": "e1dbd119",
   "metadata": {
    "execution": {
     "iopub.execute_input": "2024-03-04T21:25:26.356886Z",
     "iopub.status.busy": "2024-03-04T21:25:26.356375Z",
     "iopub.status.idle": "2024-03-04T21:33:59.632080Z",
     "shell.execute_reply": "2024-03-04T21:33:59.630501Z"
    },
    "papermill": {
     "duration": 513.284246,
     "end_time": "2024-03-04T21:33:59.635199",
     "exception": false,
     "start_time": "2024-03-04T21:25:26.350953",
     "status": "completed"
    },
    "tags": []
   },
   "outputs": [
    {
     "data": {
      "image/png": "[encoded data removed]",
      "text/plain": [
       "<Figure size 1000x600 with 1 Axes>"
      ]
     },
     "metadata": {},
     "output_type": "display_data"
    },
    {
     "name": "stdout",
     "output_type": "stream",
     "text": [
      "                                                    name  food_count  \\\n",
      "0                                \"Genuino\" Italian Cafe'         124   \n",
      "1      #1 Mongolian BBQ - Best Stir Fried Noodles In ...          27   \n",
      "2                                   $5 Fresh Burger Stop          16   \n",
      "3                                         &pizza - UPenn          36   \n",
      "4                                        &pizza - Walnut         102   \n",
      "...                                                  ...         ...   \n",
      "27057                                             zpizza           0   \n",
      "27058                                            ¡CUATRO           8   \n",
      "27059                                            ÀLAVITA         210   \n",
      "27060                                Àrdana Food & Drink         181   \n",
      "27061                                             ā café          99   \n",
      "\n",
      "       service_count                                    category  \n",
      "0                151   {'Service': 26, 'Food': 17, 'Neutral': 8}  \n",
      "1                 39     {'Service': 9, 'Food': 4, 'Neutral': 1}  \n",
      "2                 22                   {'Service': 3, 'Food': 2}  \n",
      "3                133    {'Service': 31, 'Neutral': 8, 'Food': 7}  \n",
      "4                263  {'Service': 73, 'Food': 25, 'Neutral': 23}  \n",
      "...              ...                                         ...  \n",
      "27057              4                              {'Service': 1}  \n",
      "27058             19                              {'Service': 4}  \n",
      "27059            390  {'Service': 62, 'Food': 21, 'Neutral': 12}  \n",
      "27060            316  {'Service': 51, 'Food': 20, 'Neutral': 12}  \n",
      "27061            147   {'Service': 29, 'Food': 19, 'Neutral': 2}  \n",
      "\n",
      "[26939 rows x 4 columns]\n"
     ]
    }
   ],
   "source": [
    "import pandas as pd\n",
    "import numpy as np\n",
    "import matplotlib.pyplot as plt\n",
    "\n",
    "# Read review data\n",
    "chunks = []\n",
    "r_dtypes = {\"stars\": np.float16} \n",
    "\n",
    "reader = pd.read_json('../input/yelp-dataset/yelp_academic_dataset_review.json',\n",
    "                      lines=True,\n",
    "                      chunksize=1000,\n",
    "                      dtype=r_dtypes,\n",
    "                      orient='records')\n",
    "\n",
    "for chunk in reader:\n",
    "    reduced_chunk = chunk.drop(columns=['review_id', 'user_id']).query(\"`date` >= '2018-12-31'\")\n",
    "    chunks.append(reduced_chunk)\n",
    "\n",
    "reviews = pd.concat(chunks, ignore_index=True)\n",
    "\n",
    "# Read business data\n",
    "business = pd.read_json('../input/yelp-dataset/yelp_academic_dataset_business.json',\n",
    "                        lines=True, orient='records')\n",
    "\n",
    "# Filter businesses that are categorized as restaurants\n",
    "df_yelp_business_restaurants = business.loc[(business['categories'].str.contains('Restaurants', na=False))]\n",
    "\n",
    "# Merge review data with restaurant business data\n",
    "merged_data = pd.merge(reviews, df_yelp_business_restaurants[['business_id', 'name']], on='business_id', how='inner')\n",
    "\n",
    "# Define keywords related to food and service\n",
    "food_keywords = ['sick', 'food poisoning', 'hair', 'gross', 'portion', 'taste', 'dry', 'fresh', 'tasted', 'food', 'seasoned', 'bland', 'stale', 'tasty', 'tasted', 'texture', 'cooked', 'bite', 'crispy', 'soggy', 'raw', 'delicious']\n",
    "service_keywords = ['service', 'waiter', 'waitress', 'staff', 'hospitality','employee', 'driver', 'cook', 'manager', 'pissed', 'disrespectful', 'treated', 'experience', 'team', 'operating', 'operation', 'waitress', 'waiter', 'customer service', 'greet', 'apology', 'rude', 'condescending', 'angry', 'atmosphere', 'vibe', 'request' , 'requested', 'service', 'slow', 'minutes', 'hours', 'arrived', 'closing', 'close', 'closed', 'wait', 'waiting', 'price', 'pricing', 'prices', 'server', 'loud', 'environment', 'staff', 'friendly', 'place', 'location', 'wave', 'ambience', 'forgot', 'forgetting', 'wrong', 'establishment', 'pricey', 'owner', 'interior', 'clean', 'comfortable', 'greeted', 'attentive']\n",
    "\n",
    "# Function to count keyword occurrences\n",
    "def count_keywords(text, keywords):\n",
    "    count = 0\n",
    "    for word in keywords:\n",
    "        count += text.lower().count(word)\n",
    "    return count\n",
    "\n",
    "# Apply the function to each review\n",
    "merged_data['food_count'] = merged_data['text'].apply(lambda x: count_keywords(x, food_keywords))\n",
    "merged_data['service_count'] = merged_data['text'].apply(lambda x: count_keywords(x, service_keywords))\n",
    "\n",
    "# Classify reviews based on counts\n",
    "def classify(row):\n",
    "    if row['food_count'] > row['service_count']:\n",
    "        return 'Food'\n",
    "    elif row['food_count'] < row['service_count']:\n",
    "        return 'Service'\n",
    "    else:\n",
    "        return 'Neutral'\n",
    "\n",
    "merged_data['category'] = merged_data.apply(classify, axis=1)\n",
    "\n",
    "# Group by business name and summarize counts\n",
    "grouped_reviews = merged_data.groupby('name').agg({\n",
    "    'food_count': 'sum',\n",
    "    'service_count': 'sum',\n",
    "    'category': lambda x: x.value_counts().to_dict()\n",
    "}).reset_index()\n",
    "\n",
    "# Drop businesses that do not have any of the keywords\n",
    "grouped_reviews = grouped_reviews[(grouped_reviews['food_count'] > 0) | (grouped_reviews['service_count'] > 0)]\n",
    "\n",
    "# Plotting\n",
    "keywords = ['Food Keywords', 'Service Keywords']\n",
    "counts = [grouped_reviews['food_count'].sum(), grouped_reviews['service_count'].sum()]\n",
    "\n",
    "plt.figure(figsize=(10, 6))\n",
    "plt.bar(keywords, counts, color=['blue', 'green'])\n",
    "plt.xlabel('Keywords')\n",
    "plt.ylabel('Total Count')\n",
    "plt.title('Total Count of Food and Service Keywords')\n",
    "# Add numeric labels\n",
    "for i, count in enumerate(counts):\n",
    "    plt.text(i, count, str(count), ha='center', va='bottom')\n",
    "plt.show()\n",
    "\n",
    "# Print the filtered grouped_reviews dataframe\n",
    "print(grouped_reviews)\n"
   ]
  }
 ],
 "metadata": {
  "kaggle": {
   "accelerator": "none",
   "dataSources": [
    {
     "datasetId": 10100,
     "sourceId": 3316532,
     "sourceType": "datasetVersion"
    }
   ],
   "dockerImageVersionId": 30664,
   "isGpuEnabled": false,
   "isInternetEnabled": true,
   "language": "python",
   "sourceType": "notebook"
  },
  "kernelspec": {
   "display_name": "Python 3",
   "language": "python",
   "name": "python3"
  },
  "language_info": {
   "codemirror_mode": {
    "name": "ipython",
    "version": 3
   },
   "file_extension": ".py",
   "mimetype": "text/x-python",
   "name": "python",
   "nbconvert_exporter": "python",
   "pygments_lexer": "ipython3",
   "version": "3.10.13"
  },
  "papermill": {
   "default_parameters": {},
   "duration": 518.709897,
   "end_time": "2024-03-04T21:34:01.973910",
   "environment_variables": {},
   "exception": null,
   "input_path": "__notebook__.ipynb",
   "output_path": "__notebook__.ipynb",
   "parameters": {},
   "start_time": "2024-03-04T21:25:23.264013",
   "version": "2.5.0"
  }
 },
 "nbformat": 4,
 "nbformat_minor": 5
}
