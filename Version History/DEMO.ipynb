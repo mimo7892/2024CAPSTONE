{
 "cells": [
  {
   "cell_type": "code",
   "execution_count": 1,
   "id": "b80eb517",
   "metadata": {
    "execution": {
     "iopub.execute_input": "2024-03-21T23:06:30.142758Z",
     "iopub.status.busy": "2024-03-21T23:06:30.142100Z",
     "iopub.status.idle": "2024-03-21T23:06:30.278981Z",
     "shell.execute_reply": "2024-03-21T23:06:30.277806Z"
    },
    "papermill": {
     "duration": 0.147978,
     "end_time": "2024-03-21T23:06:30.285780",
     "exception": false,
     "start_time": "2024-03-21T23:06:30.137802",
     "status": "completed"
    },
    "tags": []
   },
   "outputs": [
    {
     "data": {
      "application/vnd.jupyter.widget-view+json": {
       "model_id": "09e052eb933c45ea9ad8a2205532f921",
       "version_major": 2,
       "version_minor": 0
      },
      "text/plain": [
       "Textarea(value='', description='Review:', placeholder='Write your review here...')"
      ]
     },
     "metadata": {},
     "output_type": "display_data"
    },
    {
     "data": {
      "application/vnd.jupyter.widget-view+json": {
       "model_id": "d9c52521e1e1450aa54dc8ee0491729f",
       "version_major": 2,
       "version_minor": 0
      },
      "text/plain": [
       "Button(description='Analyze', style=ButtonStyle())"
      ]
     },
     "metadata": {},
     "output_type": "display_data"
    },
    {
     "data": {
      "application/vnd.jupyter.widget-view+json": {
       "model_id": "ca0274568377484eb3f6614d4016d5f7",
       "version_major": 2,
       "version_minor": 0
      },
      "text/plain": [
       "Output()"
      ]
     },
     "metadata": {},
     "output_type": "display_data"
    }
   ],
   "source": [
    "import ipywidgets as widgets\n",
    "from IPython.display import display\n",
    "\n",
    "# Function to count keyword occurrences\n",
    "def count_keywords(text, keywords):\n",
    "    count = 0\n",
    "    for word in keywords:\n",
    "        count += text.lower().count(word)\n",
    "    return count\n",
    "\n",
    "# Classify reviews based on counts\n",
    "def classify(row):\n",
    "    if row['food_count'] > row['service_count']:\n",
    "        return 'Food'\n",
    "    elif row['food_count'] < row['service_count']:\n",
    "        return 'Service'\n",
    "    else:\n",
    "        return 'Neutral'\n",
    "\n",
    "def analyze_review(review_text):\n",
    "    keywords_food = ['sick', 'food poisoning', 'hair', 'gross', 'portion', 'taste', 'dry', 'fresh', 'tasted', 'food', 'seasoned', 'bland', 'stale', 'tasty', 'tasted', 'texture', 'cooked', 'bite', 'crispy', 'soggy', 'raw', 'delicious']\n",
    "    keywords_service = ['service', 'waiter', 'waitress', 'staff', 'hospitality','employee', 'driver', 'cook', 'manager', 'pissed', 'disrespectful', 'treated', 'experience', 'team', 'operating', 'operation', 'waitress', 'waiter', 'customer service', 'greet', 'apology', 'rude', 'condescending', 'angry', 'atmosphere', 'vibe', 'request' , 'requested', 'service', 'slow', 'minutes', 'hours', 'arrived', 'closing', 'close', 'closed', 'wait', 'waiting', 'price', 'pricing', 'prices', 'server', 'loud', 'environment', 'staff', 'friendly', 'place', 'location', 'wave', 'ambience', 'forgot', 'forgetting', 'wrong', 'establishment', 'pricey', 'owner', 'interior', 'clean', 'comfortable', 'greeted', 'attentive']\n",
    "\n",
    "\n",
    "    food_count = count_keywords(review_text, keywords_food)\n",
    "    service_count = count_keywords(review_text, keywords_service)\n",
    "\n",
    "    category = classify({'food_count': food_count, 'service_count': service_count})\n",
    "    \n",
    "    return category, {'Food': food_count, 'Service': service_count}\n",
    "\n",
    "# Text box for user input\n",
    "review_textbox = widgets.Textarea(\n",
    "    placeholder='Write your review here...',\n",
    "    description='Review:',\n",
    "    disabled=False\n",
    ")\n",
    "\n",
    "# Button \n",
    "analyze_button = widgets.Button(description=\"Analyze\")\n",
    "\n",
    "# Output widget to display results\n",
    "output = widgets.Output()\n",
    "\n",
    "def on_analyze_button_clicked(b):\n",
    "    with output:\n",
    "        output.clear_output()\n",
    "        review = review_textbox.value\n",
    "        category, counts = analyze_review(review)\n",
    "        print(f\"Category: {category}\")\n",
    "        print(\"Score:\")\n",
    "        for key, value in counts.items():\n",
    "            print(f\"{key}: {value}\")\n",
    "\n",
    "analyze_button.on_click(on_analyze_button_clicked)\n",
    "\n",
    "\n",
    "display(review_textbox, analyze_button, output)"
   ]
  }
 ],
 "metadata": {
  "kaggle": {
   "accelerator": "none",
   "dataSources": [],
   "dockerImageVersionId": 30673,
   "isGpuEnabled": false,
   "isInternetEnabled": true,
   "language": "python",
   "sourceType": "notebook"
  },
  "kernelspec": {
   "display_name": "Python 3",
   "language": "python",
   "name": "python3"
  },
  "language_info": {
   "codemirror_mode": {
    "name": "ipython",
    "version": 3
   },
   "file_extension": ".py",
   "mimetype": "text/x-python",
   "name": "python",
   "nbconvert_exporter": "python",
   "pygments_lexer": "ipython3",
   "version": "3.10.13"
  },
  "papermill": {
   "default_parameters": {},
   "duration": 3.776484,
   "end_time": "2024-03-21T23:06:30.711666",
   "environment_variables": {},
   "exception": null,
   "input_path": "__notebook__.ipynb",
   "output_path": "__notebook__.ipynb",
   "parameters": {},
   "start_time": "2024-03-21T23:06:26.935182",
   "version": "2.5.0"
  },
  "widgets": {
   "application/vnd.jupyter.widget-state+json": {
    "state": {
     "002595c7f2b541b198d3c97789c37e32": {
      "model_module": "@jupyter-widgets/controls",
      "model_module_version": "1.5.0",
      "model_name": "ButtonStyleModel",
      "state": {
       "_model_module": "@jupyter-widgets/controls",
       "_model_module_version": "1.5.0",
       "_model_name": "ButtonStyleModel",
       "_view_count": null,
       "_view_module": "@jupyter-widgets/base",
       "_view_module_version": "1.2.0",
       "_view_name": "StyleView",
       "button_color": null,
       "font_weight": ""
      }
     },
     "09e052eb933c45ea9ad8a2205532f921": {
      "model_module": "@jupyter-widgets/controls",
      "model_module_version": "1.5.0",
      "model_name": "TextareaModel",
      "state": {
       "_dom_classes": [],
       "_model_module": "@jupyter-widgets/controls",
       "_model_module_version": "1.5.0",
       "_model_name": "TextareaModel",
       "_view_count": null,
       "_view_module": "@jupyter-widgets/controls",
       "_view_module_version": "1.5.0",
       "_view_name": "TextareaView",
       "continuous_update": true,
       "description": "Review:",
       "description_tooltip": null,
       "disabled": false,
       "layout": "IPY_MODEL_2abec578518a44f88657955881322b63",
       "placeholder": "Write your review here...",
       "rows": null,
       "style": "IPY_MODEL_d9d4c14141744244b8ab35e7c0d69fb8",
       "value": ""
      }
     },
     "1e547976692a4d6c87f0bbc6d83167fc": {
      "model_module": "@jupyter-widgets/base",
      "model_module_version": "1.2.0",
      "model_name": "LayoutModel",
      "state": {
       "_model_module": "@jupyter-widgets/base",
       "_model_module_version": "1.2.0",
       "_model_name": "LayoutModel",
       "_view_count": null,
       "_view_module": "@jupyter-widgets/base",
       "_view_module_version": "1.2.0",
       "_view_name": "LayoutView",
       "align_content": null,
       "align_items": null,
       "align_self": null,
       "border": null,
       "bottom": null,
       "display": null,
       "flex": null,
       "flex_flow": null,
       "grid_area": null,
       "grid_auto_columns": null,
       "grid_auto_flow": null,
       "grid_auto_rows": null,
       "grid_column": null,
       "grid_gap": null,
       "grid_row": null,
       "grid_template_areas": null,
       "grid_template_columns": null,
       "grid_template_rows": null,
       "height": null,
       "justify_content": null,
       "justify_items": null,
       "left": null,
       "margin": null,
       "max_height": null,
       "max_width": null,
       "min_height": null,
       "min_width": null,
       "object_fit": null,
       "object_position": null,
       "order": null,
       "overflow": null,
       "overflow_x": null,
       "overflow_y": null,
       "padding": null,
       "right": null,
       "top": null,
       "visibility": null,
       "width": null
      }
     },
     "2abec578518a44f88657955881322b63": {
      "model_module": "@jupyter-widgets/base",
      "model_module_version": "1.2.0",
      "model_name": "LayoutModel",
      "state": {
       "_model_module": "@jupyter-widgets/base",
       "_model_module_version": "1.2.0",
       "_model_name": "LayoutModel",
       "_view_count": null,
       "_view_module": "@jupyter-widgets/base",
       "_view_module_version": "1.2.0",
       "_view_name": "LayoutView",
       "align_content": null,
       "align_items": null,
       "align_self": null,
       "border": null,
       "bottom": null,
       "display": null,
       "flex": null,
       "flex_flow": null,
       "grid_area": null,
       "grid_auto_columns": null,
       "grid_auto_flow": null,
       "grid_auto_rows": null,
       "grid_column": null,
       "grid_gap": null,
       "grid_row": null,
       "grid_template_areas": null,
       "grid_template_columns": null,
       "grid_template_rows": null,
       "height": null,
       "justify_content": null,
       "justify_items": null,
       "left": null,
       "margin": null,
       "max_height": null,
       "max_width": null,
       "min_height": null,
       "min_width": null,
       "object_fit": null,
       "object_position": null,
       "order": null,
       "overflow": null,
       "overflow_x": null,
       "overflow_y": null,
       "padding": null,
       "right": null,
       "top": null,
       "visibility": null,
       "width": null
      }
     },
     "7e8a8fbae5b9403ea0b8abfbd8af416d": {
      "model_module": "@jupyter-widgets/base",
      "model_module_version": "1.2.0",
      "model_name": "LayoutModel",
      "state": {
       "_model_module": "@jupyter-widgets/base",
       "_model_module_version": "1.2.0",
       "_model_name": "LayoutModel",
       "_view_count": null,
       "_view_module": "@jupyter-widgets/base",
       "_view_module_version": "1.2.0",
       "_view_name": "LayoutView",
       "align_content": null,
       "align_items": null,
       "align_self": null,
       "border": null,
       "bottom": null,
       "display": null,
       "flex": null,
       "flex_flow": null,
       "grid_area": null,
       "grid_auto_columns": null,
       "grid_auto_flow": null,
       "grid_auto_rows": null,
       "grid_column": null,
       "grid_gap": null,
       "grid_row": null,
       "grid_template_areas": null,
       "grid_template_columns": null,
       "grid_template_rows": null,
       "height": null,
       "justify_content": null,
       "justify_items": null,
       "left": null,
       "margin": null,
       "max_height": null,
       "max_width": null,
       "min_height": null,
       "min_width": null,
       "object_fit": null,
       "object_position": null,
       "order": null,
       "overflow": null,
       "overflow_x": null,
       "overflow_y": null,
       "padding": null,
       "right": null,
       "top": null,
       "visibility": null,
       "width": null
      }
     },
     "ca0274568377484eb3f6614d4016d5f7": {
      "model_module": "@jupyter-widgets/output",
      "model_module_version": "1.0.0",
      "model_name": "OutputModel",
      "state": {
       "_dom_classes": [],
       "_model_module": "@jupyter-widgets/output",
       "_model_module_version": "1.0.0",
       "_model_name": "OutputModel",
       "_view_count": null,
       "_view_module": "@jupyter-widgets/output",
       "_view_module_version": "1.0.0",
       "_view_name": "OutputView",
       "layout": "IPY_MODEL_1e547976692a4d6c87f0bbc6d83167fc",
       "msg_id": "",
       "outputs": []
      }
     },
     "d9c52521e1e1450aa54dc8ee0491729f": {
      "model_module": "@jupyter-widgets/controls",
      "model_module_version": "1.5.0",
      "model_name": "ButtonModel",
      "state": {
       "_dom_classes": [],
       "_model_module": "@jupyter-widgets/controls",
       "_model_module_version": "1.5.0",
       "_model_name": "ButtonModel",
       "_view_count": null,
       "_view_module": "@jupyter-widgets/controls",
       "_view_module_version": "1.5.0",
       "_view_name": "ButtonView",
       "button_style": "",
       "description": "Analyze",
       "disabled": false,
       "icon": "",
       "layout": "IPY_MODEL_7e8a8fbae5b9403ea0b8abfbd8af416d",
       "style": "IPY_MODEL_002595c7f2b541b198d3c97789c37e32",
       "tooltip": ""
      }
     },
     "d9d4c14141744244b8ab35e7c0d69fb8": {
      "model_module": "@jupyter-widgets/controls",
      "model_module_version": "1.5.0",
      "model_name": "DescriptionStyleModel",
      "state": {
       "_model_module": "@jupyter-widgets/controls",
       "_model_module_version": "1.5.0",
       "_model_name": "DescriptionStyleModel",
       "_view_count": null,
       "_view_module": "@jupyter-widgets/base",
       "_view_module_version": "1.2.0",
       "_view_name": "StyleView",
       "description_width": ""
      }
     }
    },
    "version_major": 2,
    "version_minor": 0
   }
  }
 },
 "nbformat": 4,
 "nbformat_minor": 5
}
